{
 "cells": [
  {
   "cell_type": "markdown",
   "metadata": {},
   "source": [
    "Connected to PROGRA_1_2024B (Python 3.12.4)"
   ]
  },
  {
   "cell_type": "code",
   "execution_count": null,
   "id": "1dc1b5dd-ec9a-4de3-8583-2c61d7646250",
   "metadata": {},
   "outputs": [
    {
     "ename": "ModuleNotFoundError",
     "evalue": "No module named 'pymongo'",
     "output_type": "error",
     "traceback": [
      "\u001b[1;31m---------------------------------------------------------------------------\u001b[0m",
      "\u001b[1;31mModuleNotFoundError\u001b[0m                       Traceback (most recent call last)",
      "File \u001b[1;32mc:\\Users\\leo85\\sesion_1_CRUD.py:2\u001b[0m\n\u001b[0;32m      1\u001b[0m \u001b[39m# %%\u001b[39;00m\n\u001b[1;32m----> 2\u001b[0m \u001b[39mimport\u001b[39;00m \u001b[39mpymongo\u001b[39;00m\n\u001b[0;32m      3\u001b[0m \u001b[39mimport\u001b[39;00m \u001b[39myaml\u001b[39;00m\n",
      "\u001b[1;31mModuleNotFoundError\u001b[0m: No module named 'pymongo'"
     ]
    }
   ],
   "source": [
    "import pymongo\n",
    "import yaml"
   ]
  },
  {
   "cell_type": "code",
   "execution_count": null,
   "metadata": {},
   "outputs": [
    {
     "name": "stdout",
     "output_type": "stream",
     "text": [
      "Collecting pymongo\n",
      "  Downloading pymongo-4.11-cp312-cp312-win_amd64.whl.metadata (22 kB)\n",
      "Collecting dnspython<3.0.0,>=1.16.0 (from pymongo)\n",
      "  Downloading dnspython-2.7.0-py3-none-any.whl.metadata (5.8 kB)\n",
      "Downloading pymongo-4.11-cp312-cp312-win_amd64.whl (882 kB)\n",
      "   ---------------------------------------- 0.0/882.3 kB ? eta -:--:--\n",
      "   ----------- ---------------------------- 262.1/882.3 kB ? eta -:--:--\n",
      "   ---------------------------------------- 882.3/882.3 kB 5.0 MB/s eta 0:00:00\n",
      "Downloading dnspython-2.7.0-py3-none-any.whl (313 kB)\n",
      "Installing collected packages: dnspython, pymongo\n",
      "Successfully installed dnspython-2.7.0 pymongo-4.11\n",
      "Note: you may need to restart the kernel to use updated packages.\n"
     ]
    }
   ],
   "source": [
    "pip install pymongo\n"
   ]
  },
  {
   "cell_type": "code",
   "execution_count": null,
   "id": "b4116601-89df-4874-96cd-d31bbf4e605b",
   "metadata": {},
   "outputs": [],
   "source": [
    "import pymongo\n",
    "import yaml"
   ]
  },
  {
   "cell_type": "code",
   "execution_count": null,
   "id": "465afa14-5cfd-4dde-8bf6-a1e49bbad1e0",
   "metadata": {},
   "outputs": [],
   "source": [
    "import pymongo\n",
    "import yaml\n",
    "from pathlib import Path\n",
    "from pymongo import MongoClient"
   ]
  },
  {
   "cell_type": "code",
   "execution_count": null,
   "id": "e76f0ecc-0506-4ecf-aee8-a27aa66724b1",
   "metadata": {},
   "outputs": [],
   "source": [
    "# Información necesaria para conectarnos al servidor:\n",
    "# IP\n",
    "# Puerto\n",
    "# Usuario\n",
    "# Password\n",
    "# Base de datos de autenticación"
   ]
  },
  {
   "cell_type": "code",
   "execution_count": null,
   "id": "8544a169-a615-452b-99d3-0f7236373f1d",
   "metadata": {},
   "outputs": [],
   "source": [
    "import pymongo\n",
    "import yaml\n",
    "from pathlib import Path\n",
    "from pymongo import MongoClient"
   ]
  },
  {
   "cell_type": "code",
   "execution_count": null,
   "id": "f51f2c1c-2261-4f0f-af68-1bac6e155e8f",
   "metadata": {},
   "outputs": [],
   "source": [
    "# Información necesaria para conectarnos al servidor:\n",
    "# IP\n",
    "# Puerto\n",
    "# Usuario\n",
    "# Password\n",
    "# Base de datos de autenticación\n",
    "\n",
    "client = MongoClient()"
   ]
  }
 ],
 "metadata": {
  "kernelspec": {
   "display_name": "PROGRA_1_2024B",
   "language": "python",
   "name": "python3"
  },
  "language_info": {
   "codemirror_mode": {
    "name": "ipython",
    "version": 3
   },
   "file_extension": ".py",
   "mimetype": "text/x-python",
   "name": "python",
   "nbconvert_exporter": "python",
   "pygments_lexer": "ipython3",
   "version": "3.12.4"
  }
 },
 "nbformat": 4,
 "nbformat_minor": 2
}
